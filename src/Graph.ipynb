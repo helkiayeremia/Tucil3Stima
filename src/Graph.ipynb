{
 "cells": [
  {
   "cell_type": "markdown",
   "metadata": {},
   "source": [
    "<h1>Visualisasi Graph"
   ]
  },
  {
   "cell_type": "markdown",
   "metadata": {},
   "source": [
    "<h3>Import Library"
   ]
  },
  {
   "cell_type": "code",
   "execution_count": null,
   "metadata": {},
   "outputs": [],
   "source": [
    "import Astar\n",
    "import networkx as nx\n",
    "import matplotlib.pyplot as plt"
   ]
  },
  {
   "cell_type": "markdown",
   "metadata": {},
   "source": [
    "<h3>Meminta input file"
   ]
  },
  {
   "cell_type": "code",
   "execution_count": null,
   "metadata": {},
   "outputs": [],
   "source": [
    "print(\"contoh nama file : map1.txt\")\n",
    "nama_file = input(\"masukkan nama file : \")\n",
    "G, M = Astar.baca_file(\"../test/\"+nama_file)"
   ]
  },
  {
   "cell_type": "markdown",
   "metadata": {},
   "source": [
    "<h3>Membuat Graph"
   ]
  },
  {
   "cell_type": "code",
   "execution_count": null,
   "metadata": {},
   "outputs": [],
   "source": [
    "arrayOfNodeName = []\n",
    "for i in range(len(G.nodeArray)):\n",
    "    arrayOfNodeName.append(G.nodeArray[i].name) \n",
    "Gx = nx.Graph()\n",
    "Gx.add_nodes_from(arrayOfNodeName)\n",
    "for i in range(len(M)):\n",
    "    for j in range(len(M[i])):\n",
    "        if (M[i][j] != 0):\n",
    "            Gx.add_edge(arrayOfNodeName[i],arrayOfNodeName[j])"
   ]
  },
  {
   "cell_type": "markdown",
   "metadata": {},
   "source": [
    "<h3>Visualisasi Graph"
   ]
  },
  {
   "cell_type": "code",
   "execution_count": null,
   "metadata": {},
   "outputs": [],
   "source": [
    "pos = nx.spring_layout(Gx)\n",
    "nx.draw(Gx,with_labels=True,pos=pos)"
   ]
  },
  {
   "cell_type": "markdown",
   "metadata": {},
   "source": [
    "<h3>Memasukkan node awal dan akhir"
   ]
  },
  {
   "cell_type": "code",
   "execution_count": null,
   "metadata": {},
   "outputs": [],
   "source": [
    "input_start = input(\"masukkan nama node awal : \")\n",
    "input_end = input(\"masukkan nama node akhir : \")"
   ]
  },
  {
   "cell_type": "markdown",
   "metadata": {},
   "source": [
    "<h3>Proses mendapatkan jalur menggunakan A*"
   ]
  },
  {
   "cell_type": "code",
   "execution_count": null,
   "metadata": {},
   "outputs": [],
   "source": [
    "start = G.nodeArray[arrayOfNodeName.index(input_start)]\n",
    "end = G.nodeArray[arrayOfNodeName.index(input_end)]\n",
    "path = Astar.AStar(G, M, start, end)"
   ]
  },
  {
   "cell_type": "markdown",
   "metadata": {},
   "source": [
    "<h3>Menghitung jarak dan membuat rute"
   ]
  },
  {
   "cell_type": "code",
   "execution_count": null,
   "metadata": {},
   "outputs": [],
   "source": [
    "arrayOfPathEdge = []\n",
    "distance = 0\n",
    "for i in range(len(path)-1):\n",
    "    awal = arrayOfNodeName.index(path[i].name)\n",
    "    akhir = arrayOfNodeName.index(path[i+1].name)\n",
    "    distance += G.haversine(G.nodeArray[awal],G.nodeArray[akhir])\n",
    "    arrayOfPathEdge.append((arrayOfNodeName[awal],arrayOfNodeName[akhir]))"
   ]
  },
  {
   "cell_type": "markdown",
   "metadata": {},
   "source": [
    "<h3>Hasil"
   ]
  },
  {
   "cell_type": "code",
   "execution_count": null,
   "metadata": {},
   "outputs": [],
   "source": [
    "if path == []:\n",
    "    print(\"Tidak ada jalur\")\n",
    "else:\n",
    "    print(\"hasil : \")\n",
    "    for i in range(len(path)):\n",
    "        print(path[i].name)\n",
    "print(\"total jarak yang ditempuh : \", distance, \" km\")"
   ]
  },
  {
   "cell_type": "markdown",
   "metadata": {},
   "source": [
    "<h3>Visualisasi Rute"
   ]
  },
  {
   "cell_type": "code",
   "execution_count": null,
   "metadata": {},
   "outputs": [],
   "source": [
    "nx.draw(Gx,with_labels=True,pos=pos)\n",
    "nx.draw_networkx_edges(Gx,pos=pos,edgelist=arrayOfPathEdge,edge_color = \"red\")"
   ]
  }
 ],
 "metadata": {
  "kernelspec": {
   "display_name": "Python 3",
   "language": "python",
   "name": "python3"
  },
  "language_info": {
   "codemirror_mode": {
    "name": "ipython",
    "version": 3
   },
   "file_extension": ".py",
   "mimetype": "text/x-python",
   "name": "python",
   "nbconvert_exporter": "python",
   "pygments_lexer": "ipython3",
   "version": "3.7.4"
  }
 },
 "nbformat": 4,
 "nbformat_minor": 2
}
